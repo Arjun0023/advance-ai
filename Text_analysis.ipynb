{
 "cells": [
  {
   "cell_type": "code",
   "execution_count": null,
   "metadata": {
    "colab": {
     "base_uri": "https://localhost:8080/",
     "height": 1000
    },
    "id": "yTrrBbrjcptp",
    "outputId": "15239fe6-0b9b-4d19-df96-d862bca7d51e"
   },
   "outputs": [
    {
     "name": "stdout",
     "output_type": "stream",
     "text": [
      "Requirement already satisfied: nltk in /usr/local/lib/python3.10/dist-packages (3.9.1)\n",
      "Requirement already satisfied: textblob in /usr/local/lib/python3.10/dist-packages (0.17.1)\n",
      "Requirement already satisfied: click in /usr/local/lib/python3.10/dist-packages (from nltk) (8.1.7)\n",
      "Requirement already satisfied: joblib in /usr/local/lib/python3.10/dist-packages (from nltk) (1.4.2)\n",
      "Requirement already satisfied: regex>=2021.8.3 in /usr/local/lib/python3.10/dist-packages (from nltk) (2024.9.11)\n",
      "Requirement already satisfied: tqdm in /usr/local/lib/python3.10/dist-packages (from nltk) (4.66.6)\n"
     ]
    },
    {
     "name": "stderr",
     "output_type": "stream",
     "text": [
      "[nltk_data] Downloading package punkt to /root/nltk_data...\n",
      "[nltk_data]   Package punkt is already up-to-date!\n",
      "[nltk_data] Downloading package stopwords to /root/nltk_data...\n",
      "[nltk_data]   Package stopwords is already up-to-date!\n",
      "[nltk_data] Downloading package punkt_tab to /root/nltk_data...\n",
      "[nltk_data]   Unzipping tokenizers/punkt_tab.zip.\n",
      "[nltk_data] Downloading package wordnet to /root/nltk_data...\n",
      "[nltk_data] Downloading package wordnet to /root/nltk_data...\n",
      "[nltk_data]   Package wordnet is already up-to-date!\n",
      "[nltk_data] Downloading package wordnet to /root/nltk_data...\n",
      "[nltk_data]   Package wordnet is already up-to-date!\n",
      "[nltk_data] Downloading package wordnet to /root/nltk_data...\n",
      "[nltk_data]   Package wordnet is already up-to-date!\n",
      "[nltk_data] Downloading package wordnet to /root/nltk_data...\n",
      "[nltk_data]   Package wordnet is already up-to-date!\n",
      "[nltk_data] Downloading package wordnet to /root/nltk_data...\n",
      "[nltk_data]   Package wordnet is already up-to-date!\n"
     ]
    },
    {
     "name": "stdout",
     "output_type": "stream",
     "text": [
      "['absolutely love product transformed life', 'new design okay expected something innovative', 'horrible experience customer service', 'brand really understands customer want highly recommended', 'product decent nothing special', 'never buying company totally disappointed']\n",
      "Text: I absolutely love this product, it has transformed my life!\n",
      "Sentiment Score: 0.5\n",
      "\n",
      "Text: The new design is okay, but I expected something more innovative.\n",
      "Sentiment Score: 0.2590909090909091\n",
      "\n",
      "Text: I had a horrible experience with the customer service.\n",
      "Sentiment Score: -1.0\n",
      "\n",
      "Text: This brand really understands what customers want. Highly recommended!\n",
      "Sentiment Score: 0.18\n",
      "\n",
      "Text: The product is decent but nothing special.\n",
      "Sentiment Score: 0.2619047619047619\n",
      "\n",
      "Text: I'm never buying from this company again, totally disappointed.\n",
      "Sentiment Score: -0.75\n",
      "\n"
     ]
    },
    {
     "data": {
      "image/png": "[encoded data removed]",
      "text/plain": [
       "<Figure size 640x480 with 1 Axes>"
      ]
     },
     "metadata": {},
     "output_type": "display_data"
    }
   ],
   "source": [
    "#!pip install nltk textblob\n",
    "import nltk\n",
    "from nltk.corpus import stopwords\n",
    "from nltk.tokenize import word_tokenize\n",
    "from textblob import TextBlob\n",
    "\n",
    "\n",
    "# Download stop words if not done already\n",
    "nltk.download('punkt')\n",
    "nltk.download('stopwords')\n",
    "nltk.download('punkt_tab')\n",
    "# Sample data\n",
    "texts = [\n",
    "   \"I absolutely love this product, it has transformed my life!\",\n",
    "   \"The new design is okay, but I expected something more innovative.\",\n",
    "   \"I had a horrible experience with the customer service.\",\n",
    "   \"This brand really understands what customers want. Highly recommended!\",\n",
    "   \"The product is decent but nothing special.\",\n",
    "   \"I'm never buying from this company again, totally disappointed.\"\n",
    "]\n",
    "\n",
    "\n",
    "# Preprocessing function\n",
    "def preprocess_text(text):\n",
    "   # Tokenize text\n",
    "   tokens = word_tokenize(text.lower())\n",
    "\n",
    "\n",
    "   # Lemmatization and stop-word removal\n",
    "   lemmatizer = nltk.WordNetLemmatizer()\n",
    "   nltk.download('wordnet')\n",
    "   processed_tokens = [\n",
    "       lemmatizer.lemmatize(token) for token in tokens if token not in stopwords.words('english') and token.isalpha()\n",
    "   ]\n",
    "   return ' '.join(processed_tokens)\n",
    "\n",
    "\n",
    "preprocessed_texts = [preprocess_text(text) for text in texts]\n",
    "print(preprocessed_texts)\n",
    "# Analyzing sentiment\n",
    "def get_sentiment(text):\n",
    "   analysis = TextBlob(text)\n",
    "   return analysis.sentiment.polarity\n",
    "\n",
    "\n",
    "sentiments = [get_sentiment(text) for text in preprocessed_texts]\n",
    "\n",
    "\n",
    "# Printing results\n",
    "for text, sentiment in zip(texts, sentiments):\n",
    "   print(f\"Text: {text}\\nSentiment Score: {sentiment}\\n\")\n",
    "import matplotlib.pyplot as plt\n",
    "\n",
    "\n",
    "# Plot sentiment scores\n",
    "plt.bar(range(len(sentiments)), sentiments)\n",
    "plt.xlabel(\"Text Index\")\n",
    "plt.ylabel(\"Sentiment Score\")\n",
    "plt.title(\"Sentiment Analysis of Marketing-Related Text\")\n",
    "plt.show()"
   ]
  }
 ],
 "metadata": {
  "colab": {
   "provenance": []
  },
  "kernelspec": {
   "display_name": "Python 3",
   "name": "python3"
  },
  "language_info": {
   "name": "python"
  }
 },
 "nbformat": 4,
 "nbformat_minor": 0
}
